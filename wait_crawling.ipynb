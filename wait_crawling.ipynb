{
  "nbformat": 4,
  "nbformat_minor": 0,
  "metadata": {
    "colab": {
      "provenance": [],
      "authorship_tag": "ABX9TyO+43H1+NwPVP4Uu95YmspA",
      "include_colab_link": true
    },
    "kernelspec": {
      "name": "python3",
      "display_name": "Python 3"
    },
    "language_info": {
      "name": "python"
    }
  },
  "cells": [
    {
      "cell_type": "markdown",
      "metadata": {
        "id": "view-in-github",
        "colab_type": "text"
      },
      "source": [
        "<a href=\"https://colab.research.google.com/github/GLB-project-team/GLB_project/blob/main/wait_crawling.ipynb\" target=\"_parent\"><img src=\"https://colab.research.google.com/assets/colab-badge.svg\" alt=\"Open In Colab\"/></a>"
      ]
    },
    {
      "cell_type": "code",
      "execution_count": null,
      "metadata": {
        "id": "CrQnSvITM2ZI",
        "colab": {
          "base_uri": "https://localhost:8080/"
        },
        "outputId": "85e60129-ae49-4425-b648-4c42e94cbbe2"
      },
      "outputs": [
        {
          "output_type": "stream",
          "name": "stdout",
          "text": [
            "Requirement already satisfied: lxml in /usr/local/lib/python3.10/dist-packages (4.9.4)\n",
            "Requirement already satisfied: requests in /usr/local/lib/python3.10/dist-packages (2.31.0)\n",
            "Requirement already satisfied: charset-normalizer<4,>=2 in /usr/local/lib/python3.10/dist-packages (from requests) (3.3.2)\n",
            "Requirement already satisfied: idna<4,>=2.5 in /usr/local/lib/python3.10/dist-packages (from requests) (3.7)\n",
            "Requirement already satisfied: urllib3<3,>=1.21.1 in /usr/local/lib/python3.10/dist-packages (from requests) (2.0.7)\n",
            "Requirement already satisfied: certifi>=2017.4.17 in /usr/local/lib/python3.10/dist-packages (from requests) (2024.7.4)\n"
          ]
        }
      ],
      "source": [
        "!pip install lxml requests\n"
      ]
    },
    {
      "cell_type": "code",
      "source": [
        "from google.colab import drive\n",
        "drive.mount('/content/drive')\n"
      ],
      "metadata": {
        "id": "MZErMV6PM3lp",
        "colab": {
          "base_uri": "https://localhost:8080/"
        },
        "outputId": "ea1b76b0-1fbd-4703-b2eb-00a1c08099c0"
      },
      "execution_count": null,
      "outputs": [
        {
          "output_type": "stream",
          "name": "stdout",
          "text": [
            "Drive already mounted at /content/drive; to attempt to forcibly remount, call drive.mount(\"/content/drive\", force_remount=True).\n"
          ]
        }
      ]
    },
    {
      "cell_type": "code",
      "source": [
        "!apt install chromium-chromedriver\n",
        "!cp /usr/lib/chromium-browser/chromedriver '/content/drive/MyDrive'\n",
        "!pip install chromedriver-autoinstaller\n"
      ],
      "metadata": {
        "id": "jKnyqhj4M4jY",
        "colab": {
          "base_uri": "https://localhost:8080/"
        },
        "outputId": "28711b37-c645-4dcc-8a06-1ad31b25c275"
      },
      "execution_count": null,
      "outputs": [
        {
          "output_type": "stream",
          "name": "stdout",
          "text": [
            "Reading package lists... Done\n",
            "Building dependency tree... Done\n",
            "Reading state information... Done\n",
            "The following additional packages will be installed:\n",
            "  apparmor chromium-browser libfuse3-3 liblzo2-2 libudev1 snapd squashfs-tools systemd-hwe-hwdb\n",
            "  udev\n",
            "Suggested packages:\n",
            "  apparmor-profiles-extra apparmor-utils fuse3 zenity | kdialog\n",
            "The following NEW packages will be installed:\n",
            "  apparmor chromium-browser chromium-chromedriver libfuse3-3 liblzo2-2 snapd squashfs-tools\n",
            "  systemd-hwe-hwdb udev\n",
            "The following packages will be upgraded:\n",
            "  libudev1\n",
            "1 upgraded, 9 newly installed, 0 to remove and 44 not upgraded.\n",
            "Need to get 28.5 MB of archives.\n",
            "After this operation, 118 MB of additional disk space will be used.\n",
            "Get:1 http://archive.ubuntu.com/ubuntu jammy-updates/main amd64 apparmor amd64 3.0.4-2ubuntu2.3 [595 kB]\n",
            "Get:2 http://archive.ubuntu.com/ubuntu jammy/main amd64 liblzo2-2 amd64 2.10-2build3 [53.7 kB]\n",
            "Get:3 http://archive.ubuntu.com/ubuntu jammy/main amd64 squashfs-tools amd64 1:4.5-3build1 [159 kB]\n",
            "Get:4 http://archive.ubuntu.com/ubuntu jammy-updates/main amd64 libudev1 amd64 249.11-0ubuntu3.12 [78.2 kB]\n",
            "Get:5 http://archive.ubuntu.com/ubuntu jammy-updates/main amd64 udev amd64 249.11-0ubuntu3.12 [1,557 kB]\n",
            "Get:6 http://archive.ubuntu.com/ubuntu jammy/main amd64 libfuse3-3 amd64 3.10.5-1build1 [81.2 kB]\n",
            "Get:7 http://archive.ubuntu.com/ubuntu jammy-updates/main amd64 snapd amd64 2.63+22.04 [25.9 MB]\n",
            "Get:8 http://archive.ubuntu.com/ubuntu jammy-updates/universe amd64 chromium-browser amd64 1:85.0.4183.83-0ubuntu2.22.04.1 [49.2 kB]\n",
            "Get:9 http://archive.ubuntu.com/ubuntu jammy-updates/universe amd64 chromium-chromedriver amd64 1:85.0.4183.83-0ubuntu2.22.04.1 [2,308 B]\n",
            "Get:10 http://archive.ubuntu.com/ubuntu jammy-updates/main amd64 systemd-hwe-hwdb all 249.11.5 [3,228 B]\n",
            "Fetched 28.5 MB in 1s (33.7 MB/s)\n",
            "Preconfiguring packages ...\n",
            "Selecting previously unselected package apparmor.\n",
            "(Reading database ... 123589 files and directories currently installed.)\n",
            "Preparing to unpack .../apparmor_3.0.4-2ubuntu2.3_amd64.deb ...\n",
            "Unpacking apparmor (3.0.4-2ubuntu2.3) ...\n",
            "Selecting previously unselected package liblzo2-2:amd64.\n",
            "Preparing to unpack .../liblzo2-2_2.10-2build3_amd64.deb ...\n",
            "Unpacking liblzo2-2:amd64 (2.10-2build3) ...\n",
            "Selecting previously unselected package squashfs-tools.\n",
            "Preparing to unpack .../squashfs-tools_1%3a4.5-3build1_amd64.deb ...\n",
            "Unpacking squashfs-tools (1:4.5-3build1) ...\n",
            "Preparing to unpack .../libudev1_249.11-0ubuntu3.12_amd64.deb ...\n",
            "Unpacking libudev1:amd64 (249.11-0ubuntu3.12) over (249.11-0ubuntu3.10) ...\n",
            "Setting up libudev1:amd64 (249.11-0ubuntu3.12) ...\n",
            "Selecting previously unselected package udev.\n",
            "(Reading database ... 123797 files and directories currently installed.)\n",
            "Preparing to unpack .../udev_249.11-0ubuntu3.12_amd64.deb ...\n",
            "Unpacking udev (249.11-0ubuntu3.12) ...\n",
            "Selecting previously unselected package libfuse3-3:amd64.\n",
            "Preparing to unpack .../libfuse3-3_3.10.5-1build1_amd64.deb ...\n",
            "Unpacking libfuse3-3:amd64 (3.10.5-1build1) ...\n",
            "Selecting previously unselected package snapd.\n",
            "Preparing to unpack .../snapd_2.63+22.04_amd64.deb ...\n",
            "Unpacking snapd (2.63+22.04) ...\n",
            "Setting up apparmor (3.0.4-2ubuntu2.3) ...\n",
            "Created symlink /etc/systemd/system/sysinit.target.wants/apparmor.service → /lib/systemd/system/apparmor.service.\n",
            "Setting up liblzo2-2:amd64 (2.10-2build3) ...\n",
            "Setting up squashfs-tools (1:4.5-3build1) ...\n",
            "Setting up udev (249.11-0ubuntu3.12) ...\n",
            "invoke-rc.d: could not determine current runlevel\n",
            "invoke-rc.d: policy-rc.d denied execution of start.\n",
            "Setting up libfuse3-3:amd64 (3.10.5-1build1) ...\n",
            "Setting up snapd (2.63+22.04) ...\n",
            "Created symlink /etc/systemd/system/multi-user.target.wants/snapd.apparmor.service → /lib/systemd/system/snapd.apparmor.service.\n",
            "Created symlink /etc/systemd/system/multi-user.target.wants/snapd.autoimport.service → /lib/systemd/system/snapd.autoimport.service.\n",
            "Created symlink /etc/systemd/system/multi-user.target.wants/snapd.core-fixup.service → /lib/systemd/system/snapd.core-fixup.service.\n",
            "Created symlink /etc/systemd/system/multi-user.target.wants/snapd.recovery-chooser-trigger.service → /lib/systemd/system/snapd.recovery-chooser-trigger.service.\n",
            "Created symlink /etc/systemd/system/multi-user.target.wants/snapd.seeded.service → /lib/systemd/system/snapd.seeded.service.\n",
            "Created symlink /etc/systemd/system/cloud-final.service.wants/snapd.seeded.service → /lib/systemd/system/snapd.seeded.service.\n",
            "Unit /lib/systemd/system/snapd.seeded.service is added as a dependency to a non-existent unit cloud-final.service.\n",
            "Created symlink /etc/systemd/system/multi-user.target.wants/snapd.service → /lib/systemd/system/snapd.service.\n",
            "Created symlink /etc/systemd/system/timers.target.wants/snapd.snap-repair.timer → /lib/systemd/system/snapd.snap-repair.timer.\n",
            "Created symlink /etc/systemd/system/sockets.target.wants/snapd.socket → /lib/systemd/system/snapd.socket.\n",
            "Created symlink /etc/systemd/system/final.target.wants/snapd.system-shutdown.service → /lib/systemd/system/snapd.system-shutdown.service.\n",
            "Selecting previously unselected package chromium-browser.\n",
            "(Reading database ... 124027 files and directories currently installed.)\n",
            "Preparing to unpack .../chromium-browser_1%3a85.0.4183.83-0ubuntu2.22.04.1_amd64.deb ...\n",
            "=> Installing the chromium snap\n",
            "==> Checking connectivity with the snap store\n",
            "===> System doesn't have a working snapd, skipping\n",
            "Unpacking chromium-browser (1:85.0.4183.83-0ubuntu2.22.04.1) ...\n",
            "Selecting previously unselected package chromium-chromedriver.\n",
            "Preparing to unpack .../chromium-chromedriver_1%3a85.0.4183.83-0ubuntu2.22.04.1_amd64.deb ...\n",
            "Unpacking chromium-chromedriver (1:85.0.4183.83-0ubuntu2.22.04.1) ...\n",
            "Selecting previously unselected package systemd-hwe-hwdb.\n",
            "Preparing to unpack .../systemd-hwe-hwdb_249.11.5_all.deb ...\n",
            "Unpacking systemd-hwe-hwdb (249.11.5) ...\n",
            "Setting up systemd-hwe-hwdb (249.11.5) ...\n",
            "Setting up chromium-browser (1:85.0.4183.83-0ubuntu2.22.04.1) ...\n",
            "update-alternatives: using /usr/bin/chromium-browser to provide /usr/bin/x-www-browser (x-www-browser) in auto mode\n",
            "update-alternatives: using /usr/bin/chromium-browser to provide /usr/bin/gnome-www-browser (gnome-www-browser) in auto mode\n",
            "Setting up chromium-chromedriver (1:85.0.4183.83-0ubuntu2.22.04.1) ...\n",
            "Processing triggers for udev (249.11-0ubuntu3.12) ...\n",
            "Processing triggers for hicolor-icon-theme (0.17-2) ...\n",
            "Processing triggers for libc-bin (2.35-0ubuntu3.4) ...\n",
            "/sbin/ldconfig.real: /usr/local/lib/libur_adapter_opencl.so.0 is not a symbolic link\n",
            "\n",
            "/sbin/ldconfig.real: /usr/local/lib/libur_adapter_level_zero.so.0 is not a symbolic link\n",
            "\n",
            "/sbin/ldconfig.real: /usr/local/lib/libtbbmalloc.so.2 is not a symbolic link\n",
            "\n",
            "/sbin/ldconfig.real: /usr/local/lib/libtbbbind_2_5.so.3 is not a symbolic link\n",
            "\n",
            "/sbin/ldconfig.real: /usr/local/lib/libur_loader.so.0 is not a symbolic link\n",
            "\n",
            "/sbin/ldconfig.real: /usr/local/lib/libtbbbind_2_0.so.3 is not a symbolic link\n",
            "\n",
            "/sbin/ldconfig.real: /usr/local/lib/libtbbbind.so.3 is not a symbolic link\n",
            "\n",
            "/sbin/ldconfig.real: /usr/local/lib/libtbb.so.12 is not a symbolic link\n",
            "\n",
            "/sbin/ldconfig.real: /usr/local/lib/libtbbmalloc_proxy.so.2 is not a symbolic link\n",
            "\n",
            "Processing triggers for man-db (2.10.2-1) ...\n",
            "Processing triggers for dbus (1.12.20-2ubuntu4.1) ...\n",
            "Collecting chromedriver-autoinstaller\n",
            "  Downloading chromedriver_autoinstaller-0.6.4-py3-none-any.whl.metadata (2.1 kB)\n",
            "Requirement already satisfied: packaging>=23.1 in /usr/local/lib/python3.10/dist-packages (from chromedriver-autoinstaller) (24.1)\n",
            "Downloading chromedriver_autoinstaller-0.6.4-py3-none-any.whl (7.6 kB)\n",
            "Installing collected packages: chromedriver-autoinstaller\n",
            "Successfully installed chromedriver-autoinstaller-0.6.4\n"
          ]
        }
      ]
    },
    {
      "cell_type": "code",
      "source": [
        "!pip install selenium\n"
      ],
      "metadata": {
        "id": "pWEO73YPM5qa",
        "colab": {
          "base_uri": "https://localhost:8080/"
        },
        "outputId": "f67eec38-2b25-417c-efe1-d4ae1bfb0a2a"
      },
      "execution_count": null,
      "outputs": [
        {
          "output_type": "stream",
          "name": "stdout",
          "text": [
            "Collecting selenium\n",
            "  Downloading selenium-4.23.1-py3-none-any.whl.metadata (7.1 kB)\n",
            "Requirement already satisfied: urllib3<3,>=1.26 in /usr/local/lib/python3.10/dist-packages (from urllib3[socks]<3,>=1.26->selenium) (2.0.7)\n",
            "Collecting trio~=0.17 (from selenium)\n",
            "  Downloading trio-0.26.0-py3-none-any.whl.metadata (8.8 kB)\n",
            "Collecting trio-websocket~=0.9 (from selenium)\n",
            "  Downloading trio_websocket-0.11.1-py3-none-any.whl.metadata (4.7 kB)\n",
            "Requirement already satisfied: certifi>=2021.10.8 in /usr/local/lib/python3.10/dist-packages (from selenium) (2024.7.4)\n",
            "Requirement already satisfied: typing_extensions~=4.9 in /usr/local/lib/python3.10/dist-packages (from selenium) (4.12.2)\n",
            "Requirement already satisfied: websocket-client~=1.8 in /usr/local/lib/python3.10/dist-packages (from selenium) (1.8.0)\n",
            "Requirement already satisfied: attrs>=23.2.0 in /usr/local/lib/python3.10/dist-packages (from trio~=0.17->selenium) (23.2.0)\n",
            "Requirement already satisfied: sortedcontainers in /usr/local/lib/python3.10/dist-packages (from trio~=0.17->selenium) (2.4.0)\n",
            "Requirement already satisfied: idna in /usr/local/lib/python3.10/dist-packages (from trio~=0.17->selenium) (3.7)\n",
            "Collecting outcome (from trio~=0.17->selenium)\n",
            "  Downloading outcome-1.3.0.post0-py2.py3-none-any.whl.metadata (2.6 kB)\n",
            "Requirement already satisfied: sniffio>=1.3.0 in /usr/local/lib/python3.10/dist-packages (from trio~=0.17->selenium) (1.3.1)\n",
            "Requirement already satisfied: exceptiongroup in /usr/local/lib/python3.10/dist-packages (from trio~=0.17->selenium) (1.2.2)\n",
            "Collecting wsproto>=0.14 (from trio-websocket~=0.9->selenium)\n",
            "  Downloading wsproto-1.2.0-py3-none-any.whl.metadata (5.6 kB)\n",
            "Requirement already satisfied: pysocks!=1.5.7,<2.0,>=1.5.6 in /usr/local/lib/python3.10/dist-packages (from urllib3[socks]<3,>=1.26->selenium) (1.7.1)\n",
            "Collecting h11<1,>=0.9.0 (from wsproto>=0.14->trio-websocket~=0.9->selenium)\n",
            "  Downloading h11-0.14.0-py3-none-any.whl.metadata (8.2 kB)\n",
            "Downloading selenium-4.23.1-py3-none-any.whl (9.4 MB)\n",
            "\u001b[2K   \u001b[90m━━━━━━━━━━━━━━━━━━━━━━━━━━━━━━━━━━━━━━━━\u001b[0m \u001b[32m9.4/9.4 MB\u001b[0m \u001b[31m29.1 MB/s\u001b[0m eta \u001b[36m0:00:00\u001b[0m\n",
            "\u001b[?25hDownloading trio-0.26.0-py3-none-any.whl (475 kB)\n",
            "\u001b[2K   \u001b[90m━━━━━━━━━━━━━━━━━━━━━━━━━━━━━━━━━━━━━━━━\u001b[0m \u001b[32m475.7/475.7 kB\u001b[0m \u001b[31m21.0 MB/s\u001b[0m eta \u001b[36m0:00:00\u001b[0m\n",
            "\u001b[?25hDownloading trio_websocket-0.11.1-py3-none-any.whl (17 kB)\n",
            "Downloading wsproto-1.2.0-py3-none-any.whl (24 kB)\n",
            "Downloading outcome-1.3.0.post0-py2.py3-none-any.whl (10 kB)\n",
            "Downloading h11-0.14.0-py3-none-any.whl (58 kB)\n",
            "\u001b[2K   \u001b[90m━━━━━━━━━━━━━━━━━━━━━━━━━━━━━━━━━━━━━━━━\u001b[0m \u001b[32m58.3/58.3 kB\u001b[0m \u001b[31m4.1 MB/s\u001b[0m eta \u001b[36m0:00:00\u001b[0m\n",
            "\u001b[?25hInstalling collected packages: outcome, h11, wsproto, trio, trio-websocket, selenium\n",
            "Successfully installed h11-0.14.0 outcome-1.3.0.post0 selenium-4.23.1 trio-0.26.0 trio-websocket-0.11.1 wsproto-1.2.0\n"
          ]
        }
      ]
    },
    {
      "cell_type": "code",
      "source": [
        "from selenium import webdriver\n",
        "from selenium.webdriver.common.by import By\n",
        "from selenium.webdriver.support.ui import WebDriverWait\n",
        "from selenium.webdriver.support import expected_conditions as EC\n",
        "from selenium.webdriver.chrome.options import Options\n",
        "from bs4 import BeautifulSoup\n",
        "import time\n",
        "\n",
        "# Chrome 옵션 설정\n",
        "chrome_options = Options()\n",
        "chrome_options.add_argument(\"--headless\")  # 브라우저 창을 띄우지 않고 실행\n",
        "chrome_options.add_argument('--no-sandbox')\n",
        "chrome_options.add_argument('--disable-dev-shm-usage')\n",
        "\n",
        "# 웹드라이버 초기화\n",
        "driver = webdriver.Chrome(options=chrome_options)\n",
        "\n",
        "# 웹페이지 URL\n",
        "url = 'https://product.kyobobook.co.kr/detail/S000213880760'\n",
        "\n",
        "# 페이지 로드\n",
        "driver.get(url)\n",
        "\n",
        "# 제목 XPATH\n",
        "title_xpath = '//*[@id=\"contents\"]/div[1]/div/div[1]/div/div[1]/div[1]/div/h1/span'\n",
        "# 목차 XPATH\n",
        "toc_xpath = '//*[@id=\"scrollSpyProdInfo\"]/div[10]/div[2]/div[1]/div/ul/li'\n",
        "\n",
        "# 페이지가 완전히 로드될 때까지 대기\n",
        "wait = WebDriverWait(driver, 10)\n",
        "\n",
        "try:\n",
        "    # 제목 추출\n",
        "    title_element = wait.until(EC.presence_of_element_located((By.XPATH, title_xpath)))\n",
        "    title = title_element.text\n",
        "\n",
        "    print(\"책 제목:\", title)\n",
        "\n",
        "    # 목차 추출\n",
        "    toc_elements = wait.until(EC.presence_of_all_elements_located((By.XPATH, toc_xpath)))\n",
        "\n",
        "    print(\"\\n목차:\")\n",
        "    for item in toc_elements:\n",
        "        print(item.text)\n",
        "\n",
        "except Exception as e:\n",
        "    print(\"오류 발생:\", str(e))\n",
        "\n",
        "finally:\n",
        "    # 웹드라이버 종료\n",
        "    driver.quit()\n"
      ],
      "metadata": {
        "colab": {
          "base_uri": "https://localhost:8080/"
        },
        "id": "nolRuAWJUbgk",
        "outputId": "7886c23a-bcbb-4e62-dbdb-2434666a5cfd"
      },
      "execution_count": 59,
      "outputs": [
        {
          "output_type": "stream",
          "name": "stdout",
          "text": [
            "책 제목: 100억을 만드는 스몰머니 투자법\n",
            "\n",
            "목차:\n",
            "프롤로그 돈은 자기 자신과의 지독한 싸움 10\n",
            "\n",
            "1장 돈이 붙는 사람이 되자\n",
            "1. 잘 써야 돈이 붙는다 17\n",
            "2. 스몰 스텝을 위한 머니 센서 29\n",
            "조각 투자 30\n",
            "앱테크 37\n",
            "3. 모르면 당하는 은행 사용법 41\n",
            "주거래 은행 42\n",
            "연금 상품 44\n",
            "절세상품 49\n",
            "4. 챙겨야 할 정부 혜택 55\n",
            "장병내일준비적금 56\n",
            "청년내일채움공제 58\n",
            "청년도약계좌 59\n",
            "청년주택드림청약통장 62\n",
            "2천만 원으로 내집마련에 성공 63\n",
            "5. 저축과 투자는 다른 것 66\n",
            "적금 풍차돌리기 67\n",
            "주식이 자신 없다면 펀드 71\n",
            "금융목표는 인생목표가 아니다 77\n",
            "\n",
            "2장 콘텐츠로 시드머니 모으기\n",
            "1. 경험 콘텐츠가 돈이 되는 세상 83\n",
            "개인 히스토리는 콘텐츠 출발점 85\n",
            "메모로 콘텐츠 끌어 모으기 87\n",
            "작은 성공을 쌓아가는 실행 90\n",
            "실행에 도움이 되는 독서 95\n",
            "2. 광고 통행세를 받는 수익형 블로그 102\n",
            "네이버와 구글의 차이 104\n",
            "블로그는 진짜 정보를 찾아가는 중간 경로 107\n",
            "수익형 블로그도 규모의 경제 108\n",
            "매출은 수익이 아니다 111\n",
            "3. 무자본 창업이 가능한 스마트스토어 114\n",
            "무자본 무재고 창업 116\n",
            "장사에는 운, 운 뒤에는 노력 119\n",
            "스마트스토어의 전망 121\n",
            "4. 자가발전 시스템을 만들기 좋은 공유숙박업 126\n",
            "현금화가 잘되는 에어비앤비 127\n",
            "돈 이외의 부가가치 131\n",
            "수익성 고민 134\n",
            "공유 비즈니스 시대 135\n",
            "\n",
            "\n",
            "3장 스몰머니를 빅 머니로 만드는 부동산 경매\n",
            "1. 주식보다 부동산을 권하는 이유 141\n",
            "부동산은 개인 재테크 플랫폼 역할 142\n",
            "부동산 투자는 전망이 아니라 현금 동원력 148\n",
            "토지의 장점 150\n",
            "20대에 토지 지분 경매를 시작해야 하는 이유 153\n",
            "손품부터 시작하기 157\n",
            "2. 경매 기본 순서와 개념을 이해하자 163\n",
            "순서 1. 채권자가 경매를 신청한다 166\n",
            "순서 2. 법원이 공고를 낸다 166\n",
            "순서 3. 입찰에 참여한다 168\n",
            "순서 4. 낙찰과 패찰이 정해진다 172\n",
            "순서 5. 법원이 매각허가 결정을 내린다 174\n",
            "순서 6. 잔금을 납부하고 권리를 취득한다 174\n",
            "3. 입찰 전에 할 일 179\n",
            "중요 1. 입찰하고 싶은 부동산의 현황 파악 181\n",
            "중요 2. 입찰가를 정하는 기준 잡기 187\n",
            "중요 3. 권리분석 루틴 만들기 190\n",
            "4. 낙찰 후에 할 일 193\n",
            "잔금납부와 현장실사 193\n",
            "인도명령과 명도소송 196\n",
            "소액임차인의 최우선변제권 197\n",
            "\n",
            "4장 스몰머니로 가능한 토지 지분 경매\n",
            "1. 기회의 땅, 토지 지분 경매 203\n",
            "토지 지분 경매는 틈새 상품 204\n",
            "도로와 묘지가 핫한 이유 207\n",
            "2. 우량 물건의 조건 213\n",
            "토지 서류 빅5 보는 법 214\n",
            "물건 선택 요령 217\n",
            "토지 임장 시 눈여겨 볼 것 228\n",
            "3. 지분 경매의 꽃, 빠른 매도 231\n",
            "단계별 협상 노하우 233\n",
            "협상의 법칙 240\n",
            "\n",
            "5장 소액 토지 지분 경매 수익화 사례(유근용 부동산 소액투자 마스터 과정 수강생 사례)\n",
            "1. 기획부동산이 휩쓸고 간 임야 247\n",
            "당진에 있는 93평 임야 공매 247\n",
            "위성사진과 지적도가 말해주는 토지 스토리 249\n",
            "낙찰 후 공유물분할청구소송 진행 254\n",
            "2. 누가 살까 싶은 하천 지분 256\n",
            "단기 수익의 모범 사례 256\n",
            "소송 진행 후 과정 260\n",
            "3. 도로를 침범한 공장 펜스 263\n",
            "포천에 있는 도로 263\n",
            "단독 입찰 이유 265\n",
            "이길 수 있는 입찰가 정하기 267\n",
            "4. 구도심 주택가 막다른 골목273\n",
            "31평 도로 혹은 골목길 273\n",
            "구도심 노후 주택가는 단기보다 장기 투자용 275\n",
            "더욱 간절한 사람에게 매도 278\n",
            "5. 집들로 둘러싸인 시골 텃밭 280\n",
            "정선에 있는 10평 토지 280\n",
            "텃밭 사용자에게 부당이득청구소송 284\n",
            "242.5만 원 낙찰 후에 450만 원에 매도 286\n",
            "6. 소액 투자에서 생기는 일들 287\n",
            "19일 만에 수익을 낸 양평 도로 288\n",
            "6천700평 해남 임야를 611만 원에 낙찰받다 291\n",
            "300만 원에 낙찰받은 임야 22일 만에 되팔아 295\n",
            "\n",
            "에필로그 인생을 복리로 살 순 없을까? 300\n"
          ]
        }
      ]
    },
    {
      "cell_type": "code",
      "source": [],
      "metadata": {
        "id": "ionDo9d4M9Qj"
      },
      "execution_count": null,
      "outputs": []
    }
  ]
}